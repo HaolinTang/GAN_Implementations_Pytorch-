{
  "nbformat": 4,
  "nbformat_minor": 0,
  "metadata": {
    "colab": {
      "provenance": []
    },
    "kernelspec": {
      "name": "python3",
      "display_name": "Python 3"
    },
    "language_info": {
      "name": "python"
    }
  },
  "cells": [
    {
      "cell_type": "markdown",
      "source": [
        "**Wasserstein GAN with Gradient Penalty**"
      ],
      "metadata": {
        "id": "pB6Q_qwCFkyf"
      }
    },
    {
      "cell_type": "code",
      "execution_count": 2,
      "metadata": {
        "id": "zOGYuzdeZyRx"
      },
      "outputs": [],
      "source": [
        "import torch\n",
        "from torch import nn\n",
        "from tqdm.auto import tqdm\n",
        "from torchvision import transforms\n",
        "from torchvision.datasets import MNIST\n",
        "from torchvision.utils import make_grid\n",
        "from torch.utils.data import DataLoader\n",
        "import matplotlib.pyplot as plt"
      ]
    },
    {
      "cell_type": "code",
      "source": [
        "def show_tensor_images(image_tensor, num_images=25, size=(1,28,28)):\n",
        "    '''\n",
        "    Function for visualizing images: Given a tensor of images, number of images, and\n",
        "    size per image, plots and prints the images in an uniform grid.\n",
        "    '''\n",
        "    image_tensor=(image_tensor + 1)/2\n",
        "    image_unflat = image_tensor.detach().cpu()\n",
        "    image_grid = make_grid(image_unflat[:num_images], nrow=5)\n",
        "    plt.imshow(image_grid.permute(1, 2, 0).squeeze())\n",
        "    plt.show()\n",
        "\n",
        "def make_grad_hook():\n",
        "    '''\n",
        "    Function to keep track of gradients for visualization purposes, \n",
        "    which fills the grads list when using model.apply(grad_hook).\n",
        "    '''\n",
        "    grads = []\n",
        "    def grad_hook(m):\n",
        "        if isinstance(m, nn.Conv2d) or isinstance(m, nn.ConvTranspose2d):\n",
        "            grads.append(m.weight.grad)\n",
        "    return grads, grad_hook"
      ],
      "metadata": {
        "id": "w8rLB2c4F-q5"
      },
      "execution_count": 3,
      "outputs": []
    },
    {
      "cell_type": "markdown",
      "source": [
        "**Generator & Noise**"
      ],
      "metadata": {
        "id": "VzTDHfCaH82c"
      }
    },
    {
      "cell_type": "code",
      "source": [
        "class Generator(nn.Module):\n",
        "  '''\n",
        "  Generator Class\n",
        "  Values:\n",
        "    z_dim: the dimension of the noise vector, a scalar\n",
        "    im_chan: the number of channels in the images, fitted for the dataset used, a scalar\n",
        "       (MNIST is black-and-white, so 1 channel is your default)\n",
        "    hidden_dim: the inner dimension, a scalar\n",
        "  '''\n",
        "  def __init__(self, z_dim=10, im_chan=1, hidden_dim=64):\n",
        "    super(Generator, self).__init__()\n",
        "    self.z_dim = z_dim\n",
        "    # Build the neural network\n",
        "    self.gen = nn.Sequential(\n",
        "        self.make_gen_block(z_dim, hidden_dim * 4),\n",
        "        self.make_gen_block(hidden_dim * 4, hidden_dim * 2, kernel_size=4, stride=1),\n",
        "        self.make_gen_block(hidden_dim * 2, hidden_dim),\n",
        "        self.make_gen_block(hidden_dim, im_chan, kernel_size=4, final_layer=True),\n",
        "        )\n",
        "  def make_gen_block(self, input_channels, output_channels, kernel_size=3, stride=2, final_layer=False):\n",
        "    '''\n",
        "    Function to return a sequence of operations corresponding to a generator block of DCGAN;\n",
        "    a transposed convolution, a batchnorm (except in the final layer), and an activation.\n",
        "    Parameters:\n",
        "        input_channels: how many channels the input feature representation has\n",
        "        output_channels: how many channels the output feature representation should have\n",
        "        kernel_size: the size of each convolutional filter, equivalent to (kernel_size, kernel_size)\n",
        "        stride: the stride of the convolution\n",
        "        final_layer: a boolean, true if it is the final layer and false otherwise \n",
        "                      (affects activation and batchnorm)\n",
        "    '''\n",
        "    if not final_layer:\n",
        "      return nn.Sequential(\n",
        "          nn.ConvTranspose2d(input_channels, output_channels, kernel_size, stride),\n",
        "          nn.BatchNorm2d(output_channels),\n",
        "          nn.ReLU(inplace=True),\n",
        "      )\n",
        "    else:\n",
        "      return nn.Sequential(\n",
        "          nn.ConvTranspose2d(input_channels, output_channels, kernel_size, stride),\n",
        "          nn.Tanh(),\n",
        "      )\n",
        "  def forward(self,noise):\n",
        "    '''\n",
        "    Function for completing a forward pass of the generator: Given a noise tensor,\n",
        "    returns generated images.\n",
        "    Parameters:\n",
        "    noise: a noise tensor with dimensions (n_samples, z_dim)\n",
        "    '''\n",
        "    x =noise.view(len(noise), self.z_dim, 1, 1)\n",
        "    return self.gen(x)\n",
        "\n",
        "def get_noise(n_samples, z_dim, device='cpu'):\n",
        "  return torch.randn(n_samples, z_dim, device=device) "
      ],
      "metadata": {
        "id": "s-JjkTU1H7vk"
      },
      "execution_count": 4,
      "outputs": []
    },
    {
      "cell_type": "markdown",
      "source": [
        "**Critic**"
      ],
      "metadata": {
        "id": "5C-yl1QvQZTz"
      }
    },
    {
      "cell_type": "code",
      "source": [
        "class Critic(nn.Module):\n",
        "    '''\n",
        "    Critic Class\n",
        "    Values:\n",
        "        im_chan: the number of channels in the images, fitted for the dataset used, a scalar\n",
        "              (MNIST is black-and-white, so 1 channel is your default)\n",
        "        hidden_dim: the inner dimension, a scalar\n",
        "    '''\n",
        "    def __init__(self, im_chan=1, hidden_dim=64):\n",
        "        super(Critic, self).__init__()\n",
        "        self.crit = nn.Sequential(\n",
        "            self.make_crit_block(im_chan, hidden_dim),\n",
        "            self.make_crit_block(hidden_dim, hidden_dim * 2),\n",
        "            self.make_crit_block(hidden_dim * 2, 1, final_layer=True),\n",
        "        )\n",
        "\n",
        "    def make_crit_block(self, input_channels, output_channels, kernel_size=4, stride=2, final_layer=False):\n",
        "        '''\n",
        "        Function to return a sequence of operations corresponding to a critic block of DCGAN;\n",
        "        a convolution, a batchnorm (except in the final layer), and an activation (except in the final layer).\n",
        "        Parameters:\n",
        "            input_channels: how many channels the input feature representation has\n",
        "            output_channels: how many channels the output feature representation should have\n",
        "            kernel_size: the size of each convolutional filter, equivalent to (kernel_size, kernel_size)\n",
        "            stride: the stride of the convolution\n",
        "            final_layer: a boolean, true if it is the final layer and false otherwise \n",
        "                      (affects activation and batchnorm)\n",
        "        '''\n",
        "        if not final_layer:\n",
        "            return nn.Sequential(\n",
        "                nn.Conv2d(input_channels, output_channels, kernel_size, stride),\n",
        "                nn.BatchNorm2d(output_channels),\n",
        "                nn.LeakyReLU(0.2, inplace=True),\n",
        "            )\n",
        "        else:\n",
        "            return nn.Sequential(\n",
        "                nn.Conv2d(input_channels, output_channels, kernel_size, stride),\n",
        "            )\n",
        "\n",
        "    def forward(self, image):\n",
        "        '''\n",
        "        Function for completing a forward pass of the critic: Given an image tensor, \n",
        "        returns a 1-dimension tensor representing fake/real.\n",
        "        Parameters:\n",
        "            image: a flattened image tensor with dimension (im_chan)\n",
        "        '''\n",
        "        crit_pred = self.crit(image)\n",
        "        return crit_pred.view(len(crit_pred), -1)"
      ],
      "metadata": {
        "id": "Tfv9UfqjQYUq"
      },
      "execution_count": 5,
      "outputs": []
    },
    {
      "cell_type": "markdown",
      "source": [
        "**Training Initializations**\n",
        "  *   n_epochs: the number of times you iterate through the entire dataset when training\n",
        "  *   z_dim: the dimension of the noise vector\n",
        "  *   display_step: how often to display/visualize the images\n",
        "  *   batch_size: the number of images per forward/backward pass\n",
        "  *   lr: the learning rate\n",
        "  *   beta_1, beta_2: the momentum terms\n",
        "  *   c_lambda: weight of the gradient penalty\n",
        "  *   crit_repeats: number of times to update the critic per generator update\n",
        "  *   device: the device type\n",
        "\n"
      ],
      "metadata": {
        "id": "Alci6bI3Rebf"
      }
    },
    {
      "cell_type": "code",
      "source": [
        "n_epochs = 100\n",
        "z_dim = 64\n",
        "display_step = 500\n",
        "batch_size = 128\n",
        "lr = 0.0002\n",
        "beta_1 = 0.5\n",
        "beta_2 = 0.999\n",
        "c_lambda = 10\n",
        "crit_repeats = 5\n",
        "device = 'cuda'\n",
        "\n",
        "transform = transforms.Compose([\n",
        "    transforms.ToTensor(),\n",
        "    transforms.Normalize((0.5,), (0.5,)),\n",
        "])\n",
        "\n",
        "dataloader = DataLoader(\n",
        "    MNIST('.', download=True, transform=transform),\n",
        "    batch_size=batch_size,\n",
        "    shuffle=True)"
      ],
      "metadata": {
        "id": "qq2KPFX9R4P1"
      },
      "execution_count": null,
      "outputs": []
    },
    {
      "cell_type": "markdown",
      "source": [
        " **Initializations of generator, critic, and optimizers**\n",
        "\n",
        "\n",
        "\n"
      ],
      "metadata": {
        "id": "HvUB7H8pSGod"
      }
    },
    {
      "cell_type": "code",
      "source": [
        "gen = Generator(z_dim).to(device)\n",
        "gen_opt = torch.optim.Adam(gen.parameters(), lr=lr, betas=(beta_1, beta_2))\n",
        "crit = Critic().to(device)\n",
        "crit_opt = torch.optim.Adam(crit.parameters(), lr=lr, betas=(beta_1, beta_2))\n",
        "\n",
        "def weights_init(m):\n",
        "    if isinstance(m, nn.Conv2d) or isinstance(m, nn.ConvTranspose2d):\n",
        "        torch.nn.init.normal_(m.weight, 0.0, 0.02)\n",
        "    if isinstance(m, nn.BatchNorm2d):\n",
        "        torch.nn.init.normal_(m.weight, 0.0, 0.02)\n",
        "        torch.nn.init.constant_(m.bias, 0)\n",
        "gen = gen.apply(weights_init)\n",
        "crit = crit.apply(weights_init)"
      ],
      "metadata": {
        "id": "IP8hBC2uSE8t"
      },
      "execution_count": null,
      "outputs": []
    },
    {
      "cell_type": "markdown",
      "source": [
        "**Gradient Penalty**\n",
        "1.   Compute the gradient with respect to the images.\n",
        "2.   Compute the gradient penalty given the gradient.\n",
        "\n"
      ],
      "metadata": {
        "id": "K2t7M1xYVqOV"
      }
    },
    {
      "cell_type": "code",
      "source": [
        "def  get_gradient(crit, real, fake, epsilon):\n",
        "    '''\n",
        "    Return the gradient of the critic's scores with respect to mixes of real and fake images.\n",
        "    Parameters:\n",
        "        crit: the critic model\n",
        "        real: a batch of real images\n",
        "        fake: a batch of fake images\n",
        "        epsilon: a vector of the uniformly random proportions of real/fake per mixed image\n",
        "    Returns:\n",
        "        gradient: the gradient of the critic's scores, with respect to the mixed image\n",
        "    '''\n",
        "    # Mix the images \n",
        "    mixed_images = real * epsilon + fake * (1 - epsilon)\n",
        "\n",
        "    #Calculate the scores on the mixed images\n",
        "    mixed_scores = crit(mixed_images)\n",
        "\n",
        "    # Take the gradient of the scores with respect to the images\n",
        "\n",
        "    gradient = torch.autograd.grad(\n",
        "        # Note: You need to take the gradient of outputs with respect to inputs.\n",
        "        # This documentation may be useful, but it should not be necessary:\n",
        "        # https://pytorch.org/docs/stable/autograd.html#torch.autograd.grad\n",
        "        inputs=mixed_images,\n",
        "        outputs=mixed_scores,\n",
        "        # These other parameters have to do with the pytorch autograd engine works\n",
        "        grad_outputs=torch.ones_like(mixed_scores), \n",
        "        create_graph=True,\n",
        "        retain_graph=True,\n",
        "    )[0]\n",
        "    return gradient"
      ],
      "metadata": {
        "id": "8hagVcLXVoTq"
      },
      "execution_count": null,
      "outputs": []
    },
    {
      "cell_type": "code",
      "source": [
        "def gradient_penalty(gradient):\n",
        "    '''\n",
        "    Return the gradient penalty, given a gradient.\n",
        "    Given a batch of image gradients, you calculate the magnitude of each image's gradient\n",
        "    and penalize the mean quadratic distance of each magnitude to 1.\n",
        "    Parameters:\n",
        "        gradient: the gradient of the critic's scores, with respect to the mixed image\n",
        "    Returns:\n",
        "        penalty: the gradient penalty\n",
        "    '''\n",
        "    # Flatten the gradients so that each row captures one image\n",
        "    gradient = gradient.view(len(gradient), -1)\n",
        "\n",
        "    # Calculate the magnitude of every row\n",
        "    gradient_norm = gradient.norm(2, dim=1)\n",
        "    \n",
        "    # Penalize the mean squared distance of the gradient norms from 1\n",
        "\n",
        "    penalty = torch.mean((gradient_norm - 1)**2)\n",
        "    return penalty"
      ],
      "metadata": {
        "id": "HeNe6jgKYrFe"
      },
      "execution_count": null,
      "outputs": []
    },
    {
      "cell_type": "code",
      "source": [
        "def get_crit_loss(crit_fake_pred, crit_real_pred, gp, c_lambda):\n",
        "    '''\n",
        "    Return the loss of a critic given the critic's scores for fake and real images,\n",
        "    the gradient penalty, and gradient penalty weight.\n",
        "    Parameters:\n",
        "        crit_fake_pred: the critic's scores of the fake images\n",
        "        crit_real_pred: the critic's scores of the real images\n",
        "        gp: the unweighted gradient penalty\n",
        "        c_lambda: the current weight of the gradient penalty \n",
        "    Returns:\n",
        "        crit_loss: a scalar for the critic's loss, accounting for the relevant factors\n",
        "    '''\n",
        "    crit_loss = torch.mean(crit_fake_pred) - torch.mean(crit_real_pred) + c_lambda * gp\n",
        "    return crit_loss"
      ],
      "metadata": {
        "id": "vEWh_kK5dJWZ"
      },
      "execution_count": null,
      "outputs": []
    },
    {
      "cell_type": "markdown",
      "source": [
        "**Putting It All Together**"
      ],
      "metadata": {
        "id": "tY4UJyr0ddfu"
      }
    },
    {
      "cell_type": "code",
      "source": [
        "import matplotlib.pyplot as plt\n",
        "\n",
        "cur_step = 0\n",
        "generator_losses = []\n",
        "critic_losses = []\n",
        "for epoch in range(n_epochs):\n",
        "    # Dataloader returns the batches\n",
        "    for real, _ in tqdm(dataloader):\n",
        "        cur_batch_size = len(real)\n",
        "        real = real.to(device)\n",
        "\n",
        "        mean_iteration_critic_loss = 0\n",
        "        for _ in range(crit_repeats):\n",
        "            ### Update critic ###\n",
        "            crit_opt.zero_grad()\n",
        "            fake_noise = get_noise(cur_batch_size, z_dim, device=device)\n",
        "            fake = gen(fake_noise)\n",
        "            crit_fake_pred = crit(fake.detach())\n",
        "            crit_real_pred = crit(real)\n",
        "\n",
        "            epsilon = torch.rand(len(real), 1, 1, 1, device=device, requires_grad=True)\n",
        "            gradient = get_gradient(crit, real, fake.detach(), epsilon)\n",
        "            gp = gradient_penalty(gradient)\n",
        "            crit_loss = get_crit_loss(crit_fake_pred, crit_real_pred, gp, c_lambda)\n",
        "\n",
        "            # Keep track of the average critic loss in this batch\n",
        "            mean_iteration_critic_loss += crit_loss.item() / crit_repeats\n",
        "            # Update gradients\n",
        "            crit_loss.backward(retain_graph=True)\n",
        "            # Update optimizer\n",
        "            crit_opt.step()\n",
        "        critic_losses += [mean_iteration_critic_loss]\n",
        "\n",
        "        ### Update generator ###\n",
        "        gen_opt.zero_grad()\n",
        "        fake_noise_2 = get_noise(cur_batch_size, z_dim, device=device)\n",
        "        fake_2 = gen(fake_noise_2)\n",
        "        crit_fake_pred = crit(fake_2)\n",
        "        \n",
        "        gen_loss = get_gen_loss(crit_fake_pred)\n",
        "        gen_loss.backward()\n",
        "\n",
        "        # Update the weights\n",
        "        gen_opt.step()\n",
        "\n",
        "        # Keep track of the average generator loss\n",
        "        generator_losses += [gen_loss.item()]\n",
        "\n",
        "        ### Visualization code ###\n",
        "        if cur_step % display_step == 0 and cur_step > 0:\n",
        "            gen_mean = sum(generator_losses[-display_step:]) / display_step\n",
        "            crit_mean = sum(critic_losses[-display_step:]) / display_step\n",
        "            print(f\"Epoch {epoch}, step {cur_step}: Generator loss: {gen_mean}, critic loss: {crit_mean}\")\n",
        "            show_tensor_images(fake)\n",
        "            show_tensor_images(real)\n",
        "            step_bins = 20\n",
        "            num_examples = (len(generator_losses) // step_bins) * step_bins\n",
        "            plt.plot(\n",
        "                range(num_examples // step_bins), \n",
        "                torch.Tensor(generator_losses[:num_examples]).view(-1, step_bins).mean(1),\n",
        "                label=\"Generator Loss\"\n",
        "            )\n",
        "            plt.plot(\n",
        "                range(num_examples // step_bins), \n",
        "                torch.Tensor(critic_losses[:num_examples]).view(-1, step_bins).mean(1),\n",
        "                label=\"Critic Loss\"\n",
        "            )\n",
        "            plt.legend()\n",
        "            plt.show()\n",
        "\n",
        "        cur_step += 1\n"
      ],
      "metadata": {
        "id": "zpoaZDkGdkzI"
      },
      "execution_count": null,
      "outputs": []
    }
  ]
}