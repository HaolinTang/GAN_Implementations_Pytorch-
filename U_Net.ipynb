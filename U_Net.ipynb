{
  "nbformat": 4,
  "nbformat_minor": 0,
  "metadata": {
    "colab": {
      "provenance": []
    },
    "kernelspec": {
      "name": "python3",
      "display_name": "Python 3"
    },
    "language_info": {
      "name": "python"
    }
  },
  "cells": [
    {
      "cell_type": "markdown",
      "source": [
        "**U-Net**"
      ],
      "metadata": {
        "id": "3sGx95qoQF2X"
      }
    },
    {
      "cell_type": "code",
      "execution_count": null,
      "metadata": {
        "id": "sBfpQwSmXzjS"
      },
      "outputs": [],
      "source": [
        "import torch\n",
        "from torch import nn\n",
        "from tqdm.auto import tqdm\n",
        "from torchvision import transforms\n",
        "from torchvision.utils import make_grid\n",
        "from torch.utils.data import DataLoader\n",
        "import matplotlib.pyplot as plt\n",
        "\n",
        "def show_tensor_images(image_tensor, num_images=25, size=(1, 28, 28)):\n",
        "    '''\n",
        "    Function for visualizing images: Given a tensor of images, number of images, and\n",
        "    size per image, plots and prints the images in an uniform grid.\n",
        "    '''\n",
        "    # image_shifted = (image_tensor + 1) / 2\n",
        "    image_shifted = image_tensor\n",
        "    image_unflat = image_shifted.detach().cpu().view(-1, *size)\n",
        "    image_grid = make_grid(image_unflat[:num_images], nrow=4)\n",
        "    plt.imshow(image_grid.permute(1, 2, 0).squeeze())\n",
        "    plt.show()"
      ]
    },
    {
      "cell_type": "markdown",
      "source": [
        "**Contracting Path**"
      ],
      "metadata": {
        "id": "tfAQWpslQnbg"
      }
    },
    {
      "cell_type": "code",
      "source": [
        "class ContractingBlock(nn.Module):\n",
        "    '''\n",
        "    ContractingBlock Class\n",
        "    Performs two convolutions followed by a max pool operation.\n",
        "    Values:\n",
        "        input_channels: the number of channels to expect from a given input\n",
        "    '''\n",
        "    def __init__(self, input_channels):\n",
        "        super(ContractingBlock, self).__init__()\n",
        "        # You want to double the number of channels in the first convolution\n",
        "        # and keep the same number of channels in the second.\n",
        "        self.conv1 = nn.Conv2d(input_channels, input_channels * 2, kernel_size=3)\n",
        "        self.conv2 = nn.Conv2d(input_channels * 2, input_channels * 2, kernel_size=3)\n",
        "        self.activation = nn.ReLU()\n",
        "        self.maxpool = nn.MaxPool2d(kernel_size=2, stride=2)\n",
        "\n",
        "    def forward(self, x):\n",
        "        '''\n",
        "        Function for completing a forward pass of ContractingBlock: \n",
        "        Given an image tensor, completes a contracting block and returns the transformed tensor.\n",
        "        Parameters:\n",
        "            x: image tensor of shape (batch size, channels, height, width)\n",
        "        '''\n",
        "        x = self.conv1(x)\n",
        "        x = self.activation(x)\n",
        "        x = self.conv2(x)\n",
        "        x = self.activation(x)\n",
        "        x = self.maxpool(x)\n",
        "        return x\n",
        "    \n",
        "    # Required for grading\n",
        "    def get_self(self):\n",
        "        return self"
      ],
      "metadata": {
        "id": "MKh96CsvQfZP"
      },
      "execution_count": null,
      "outputs": []
    },
    {
      "cell_type": "markdown",
      "source": [
        "**Expanding Path**"
      ],
      "metadata": {
        "id": "svaebF8_S0vm"
      }
    },
    {
      "cell_type": "code",
      "source": [
        "def crop(image, new_shape):\n",
        "    '''\n",
        "    Function for cropping an image tensor: Given an image tensor and the new shape,\n",
        "    crops to the center pixels.\n",
        "    Parameters:\n",
        "        image: image tensor of shape (batch size, channels, height, width)\n",
        "        new_shape: a torch.Size object with the shape you want x to have\n",
        "    '''\n",
        "    middle_height = image.shape[2] // 2\n",
        "    middle_width = image.shape[3] // 2\n",
        "    starting_height = middle_height - new_shape[2] // 2\n",
        "    final_height = starting_height + new_shape[2]\n",
        "    starting_width = middle_width - new_shape[3] // 2\n",
        "    final_width = starting_width + new_shape[3]\n",
        "    cropped_image = image[:, :, starting_height:final_height, starting_width:final_width]    \n",
        "    \n",
        "    return cropped_image\n"
      ],
      "metadata": {
        "id": "CdMgQLtFS4Pd"
      },
      "execution_count": null,
      "outputs": []
    },
    {
      "cell_type": "code",
      "source": [
        "class ExpandingBlock(nn.Module):\n",
        "    '''\n",
        "    ExpandingBlock Class\n",
        "    Performs an upsampling, a convolution, a concatenation of its two inputs,\n",
        "    followed by two more convolutions.\n",
        "    Values:\n",
        "        input_channels: the number of channels to expect from a given input\n",
        "    '''\n",
        "    def __init__(self, input_channels):\n",
        "        super(ExpandingBlock, self).__init__()\n",
        "        # \"Every step in the expanding path consists of an upsampling of the feature map\"\n",
        "        self.upsample = nn.Upsample(scale_factor=2, mode='bilinear', align_corners=True)\n",
        "        # \"followed by a 2x2 convolution that halves the number of feature channels\"\n",
        "        # \"a concatenation with the correspondingly cropped feature map from the contracting path\"\n",
        "        # \"and two 3x3 convolutions\"\n",
        "\n",
        "        self.conv1 = nn.Conv2d(input_channels, input_channels // 2, kernel_size=2, stride=1)\n",
        "        self.conv2 = nn.Conv2d(input_channels, input_channels // 2, kernel_size=3, stride=1)\n",
        "        self.conv3 = nn.Conv2d(input_channels // 2, input_channels // 2, kernel_size=3, stride=1)\n",
        "        self.activation = nn.ReLU() # \"each followed by a ReLU\"\n",
        " \n",
        "    def forward(self, x, skip_con_x):\n",
        "        '''\n",
        "        Function for completing a forward pass of ExpandingBlock: \n",
        "        Given an image tensor, completes an expanding block and returns the transformed tensor.\n",
        "        Parameters:\n",
        "            x: image tensor of shape (batch size, channels, height, width)\n",
        "            skip_con_x: the image tensor from the contracting path (from the opposing block of x)\n",
        "                    for the skip connection\n",
        "        '''\n",
        "        x = self.upsample(x)\n",
        "        x = self.conv1(x)\n",
        "        skip_con_x = crop(skip_con_x, x.shape)\n",
        "        x = torch.cat([x, skip_con_x], axis=1)\n",
        "        x = self.conv2(x)\n",
        "        x = self.activation(x)\n",
        "        x = self.conv3(x)\n",
        "        x = self.activation(x)\n",
        "        return x\n",
        "    "
      ],
      "metadata": {
        "id": "O9_m35ZiWlRu"
      },
      "execution_count": null,
      "outputs": []
    },
    {
      "cell_type": "markdown",
      "source": [
        "**Final Layer**"
      ],
      "metadata": {
        "id": "PgSIO-bzY_vr"
      }
    },
    {
      "cell_type": "code",
      "source": [
        "class FeatureMapBlock(nn.Module):\n",
        "    '''\n",
        "    FeatureMapBlock Class\n",
        "    The final layer of a UNet - \n",
        "    maps each pixel to a pixel with the correct number of output dimensions\n",
        "    using a 1x1 convolution.\n",
        "    Values:\n",
        "        input_channels: the number of channels to expect from a given input\n",
        "    '''\n",
        "    def __init__(self, input_channels, output_channels):\n",
        "        super(FeatureMapBlock, self).__init__()\n",
        "        # \"Every step in the expanding path consists of an upsampling of the feature map\"\n",
        "        \n",
        "        self.conv = nn.Conv2d(input_channels, output_channels, kernel_size=1)\n",
        "\n",
        "    def forward(self, x):\n",
        "        '''\n",
        "        Function for completing a forward pass of FeatureMapBlock: \n",
        "        Given an image tensor, returns it mapped to the desired number of channels.\n",
        "        Parameters:\n",
        "            x: image tensor of shape (batch size, channels, height, width)\n",
        "        '''\n",
        "        x = self.conv(x)\n",
        "        return x"
      ],
      "metadata": {
        "id": "aAL-TlIKZFES"
      },
      "execution_count": null,
      "outputs": []
    },
    {
      "cell_type": "markdown",
      "source": [
        "**Put It All Together**"
      ],
      "metadata": {
        "id": "L53DIR_TZPdK"
      }
    },
    {
      "cell_type": "code",
      "source": [
        "class UNet(nn.Module):\n",
        "    '''\n",
        "    UNet Class\n",
        "    A series of 4 contracting blocks followed by 4 expanding blocks to \n",
        "    transform an input image into the corresponding paired image, with an upfeature\n",
        "    layer at the start and a downfeature layer at the end\n",
        "    Values:\n",
        "        input_channels: the number of channels to expect from a given input\n",
        "        output_channels: the number of channels to expect for a given output\n",
        "    '''\n",
        "    def __init__(self, input_channels, output_channels, hidden_channels=64):\n",
        "        super(UNet, self).__init__()\n",
        "        # \"Every step in the expanding path consists of an upsampling of the feature map\"\n",
        "        self.upfeature = FeatureMapBlock(input_channels, hidden_channels)\n",
        "        self.contract1 = ContractingBlock(hidden_channels)\n",
        "        self.contract2 = ContractingBlock(hidden_channels * 2)\n",
        "        self.contract3 = ContractingBlock(hidden_channels * 4)\n",
        "        self.contract4 = ContractingBlock(hidden_channels * 8)\n",
        "        self.expand1 = ExpandingBlock(hidden_channels * 16)\n",
        "        self.expand2 = ExpandingBlock(hidden_channels * 8)\n",
        "        self.expand3 = ExpandingBlock(hidden_channels * 4)\n",
        "        self.expand4 = ExpandingBlock(hidden_channels * 2)\n",
        "        self.downfeature = FeatureMapBlock(hidden_channels, output_channels)\n",
        "\n",
        "    def forward(self, x):\n",
        "        '''\n",
        "        Function for completing a forward pass of UNet: \n",
        "        Given an image tensor, passes it through U-Net and returns the output.\n",
        "        Parameters:\n",
        "            x: image tensor of shape (batch size, channels, height, width)\n",
        "        '''\n",
        "        # Keep in mind that the expand function takes two inputs, \n",
        "        # both with the same number of channels. \n",
        "\n",
        "        x0 = self.upfeature(x)\n",
        "        x1 = self.contract1(x0)\n",
        "        x2 = self.contract2(x1)\n",
        "        x3 = self.contract3(x2)\n",
        "        x4 = self.contract4(x3)\n",
        "        x5 = self.expand1(x4, x3)\n",
        "        x6 = self.expand2(x5, x2)\n",
        "        x7 = self.expand3(x6, x1)\n",
        "        x8 = self.expand4(x7, x0)\n",
        "        xn = self.downfeature(x8)\n",
        "\n",
        "        return xn"
      ],
      "metadata": {
        "id": "8FS0jz8bZaQj"
      },
      "execution_count": null,
      "outputs": []
    },
    {
      "cell_type": "markdown",
      "source": [
        "**Training**\n",
        "\n",
        "\n"
      ],
      "metadata": {
        "id": "aXpUsupFZ-kV"
      }
    },
    {
      "cell_type": "code",
      "source": [
        "import torch.nn.functional as F\n",
        "criterion = nn.BCEWithLogitsLoss()\n",
        "n_epochs = 200\n",
        "input_dim = 1\n",
        "label_dim = 1\n",
        "display_step = 20\n",
        "batch_size = 4\n",
        "lr = 0.0002\n",
        "initial_shape = 512\n",
        "target_shape = 373\n",
        "device = 'cuda'\n"
      ],
      "metadata": {
        "id": "SXUg6sDhaHr3"
      },
      "execution_count": null,
      "outputs": []
    },
    {
      "cell_type": "code",
      "source": [
        "from skimage import io\n",
        "import numpy as np\n",
        "volumes = torch.Tensor(io.imread('train-volume.tif'))[:, None, :, :] / 255\n",
        "labels = torch.Tensor(io.imread('train-labels.tif', plugin=\"tifffile\"))[:, None, :, :] / 255\n",
        "labels = crop(labels, torch.Size([len(labels), 1, target_shape, target_shape]))\n",
        "dataset = torch.utils.data.TensorDataset(volumes, labels)"
      ],
      "metadata": {
        "id": "3iV2G7reaLP5"
      },
      "execution_count": null,
      "outputs": []
    },
    {
      "cell_type": "code",
      "source": [
        "def train():\n",
        "    dataloader = DataLoader(\n",
        "        dataset,\n",
        "        batch_size=batch_size,\n",
        "        shuffle=True)\n",
        "    unet = UNet(input_dim, label_dim).to(device)\n",
        "    unet_opt = torch.optim.Adam(unet.parameters(), lr=lr)\n",
        "    cur_step = 0\n",
        "\n",
        "    for epoch in range(n_epochs):\n",
        "        for real, labels in tqdm(dataloader):\n",
        "            cur_batch_size = len(real)\n",
        "            # Flatten the image\n",
        "            real = real.to(device)\n",
        "            labels = labels.to(device)\n",
        "\n",
        "            ### Update U-Net ###\n",
        "            unet_opt.zero_grad()\n",
        "            pred = unet(real)\n",
        "            unet_loss = criterion(pred, labels)\n",
        "            unet_loss.backward()\n",
        "            unet_opt.step()\n",
        "\n",
        "            if cur_step % display_step == 0:\n",
        "                print(f\"Epoch {epoch}: Step {cur_step}: U-Net loss: {unet_loss.item()}\")\n",
        "                show_tensor_images(\n",
        "                    crop(real, torch.Size([len(real), 1, target_shape, target_shape])), \n",
        "                    size=(input_dim, target_shape, target_shape)\n",
        "                )\n",
        "                show_tensor_images(labels, size=(label_dim, target_shape, target_shape))\n",
        "                show_tensor_images(torch.sigmoid(pred), size=(label_dim, target_shape, target_shape))\n",
        "            cur_step += 1\n",
        "\n",
        "train()"
      ],
      "metadata": {
        "id": "gBZY0iPkaOA5"
      },
      "execution_count": null,
      "outputs": []
    }
  ]
}